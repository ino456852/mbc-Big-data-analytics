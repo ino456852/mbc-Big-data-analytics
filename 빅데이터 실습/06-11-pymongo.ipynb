{
 "cells": [
  {
   "cell_type": "code",
   "execution_count": 2,
   "id": "1a4208c3-5884-43cb-ae73-b9c2574d2771",
   "metadata": {},
   "outputs": [
    {
     "name": "stdout",
     "output_type": "stream",
     "text": [
      "4.13.0\n"
     ]
    }
   ],
   "source": [
    "# 1. MongoClient 임포트\n",
    "from pymongo import MongoClient\n",
    "\n",
    "import pymongo\n",
    "print(pymongo.__version__)"
   ]
  },
  {
   "cell_type": "code",
   "execution_count": 3,
   "id": "4846b09c-9d80-46e5-b903-e8298c9df41a",
   "metadata": {},
   "outputs": [],
   "source": [
    "# 2. MongoClient 객체 생성\n",
    "# MongoDB는 기본적으로 27017 포트를 사용합니다.\n",
    "# client = MongoClient('localhost', 27017) 와 동일합니다.\n",
    "client = MongoClient('mongodb://localhost:27017/')"
   ]
  },
  {
   "cell_type": "code",
   "execution_count": 4,
   "id": "3b78ff60-b8e4-4d25-bb52-98540da9070e",
   "metadata": {},
   "outputs": [],
   "source": [
    "# 3. 데이터베이스 선택\n",
    "# 만약 'my_database'라는 데이터베이스가 없으면,\n",
    "# 데이터를 처음 쓸 때 자동으로 생성됩니다.\n",
    "db = client['my_database']"
   ]
  },
  {
   "cell_type": "code",
   "execution_count": 5,
   "id": "3736124c-c495-4a17-a8bb-bf87139f5524",
   "metadata": {},
   "outputs": [],
   "source": [
    "# 4. 컬렉션 선택\n",
    "# 데이터베이스 선택과 마찬가지로, 'my_collection'이 없으면\n",
    "# 데이터를 처음 쓸 때 자동으로 생성됩니다.\n",
    "collection = db['my_collection']"
   ]
  },
  {
   "cell_type": "code",
   "execution_count": 6,
   "id": "f89c4e01-2731-4a2c-b377-7880548f3a86",
   "metadata": {},
   "outputs": [
    {
     "name": "stdout",
     "output_type": "stream",
     "text": [
      "MongoDB 연결 성공!\n",
      "선택된 DB: my_database\n",
      "선택된 Collection: my_collection\n"
     ]
    }
   ],
   "source": [
    "print(\"MongoDB 연결 성공!\")\n",
    "print(\"선택된 DB:\", db.name)\n",
    "print(\"선택된 Collection:\", collection.name)\n",
    "\n",
    "# 연결 확인 후 클라이언트 닫기 (실제 애플리케이션에서는 계속 열어둡니다)\n",
    "client.close()"
   ]
  },
  {
   "cell_type": "code",
   "execution_count": 8,
   "id": "d5290013-a6aa-4a76-b2df-ef020a2dccd2",
   "metadata": {},
   "outputs": [
    {
     "name": "stdout",
     "output_type": "stream",
     "text": [
      "하나의 문서가 삽입되었습니다. ID: 68479db28f5735a55d32acbd\n"
     ]
    }
   ],
   "source": [
    "client = MongoClient('mongodb://localhost:27017/')\n",
    "db = client['my_database']\n",
    "collection = db['my_collection']\n",
    "\n",
    "# 삽입할 문서(Dictionary) 생성\n",
    "user_doc = {\n",
    "    \"name\": \"백인호\",\n",
    "    \"email\": \"ino1533@gmail.com\",\n",
    "    \"age\": 30,\n",
    "    \"skills\": [\"자바\", \"오라클\", \"스프링부트개발\"]\n",
    "}\n",
    "\n",
    "# insert_one() 메소드로 문서 삽입\n",
    "result = collection.insert_one(user_doc)\n",
    "\n",
    "# 삽입된 문서의 고유 ID(_id) 확인\n",
    "print(f\"하나의 문서가 삽입되었습니다. ID: {result.inserted_id}\")\n",
    "\n",
    "client.close()\n"
   ]
  },
  {
   "cell_type": "code",
   "execution_count": 9,
   "id": "ac2c00ce-0d25-44a9-95fa-6f60ca8c0916",
   "metadata": {},
   "outputs": [
    {
     "name": "stdout",
     "output_type": "stream",
     "text": [
      "여러 문서가 삽입되었습니다. IDs: [ObjectId('68479f5c8f5735a55d32acbf'), ObjectId('68479f5c8f5735a55d32acc0'), ObjectId('68479f5c8f5735a55d32acc1')]\n"
     ]
    }
   ],
   "source": [
    "from pymongo import MongoClient\n",
    "\n",
    "client = MongoClient('mongodb://localhost:27017/')\n",
    "db = client['my_database']\n",
    "collection = db['my_collection']\n",
    "\n",
    "# 삽입할 문서 리스트 생성\n",
    "user_docs = [\n",
    "    {\"name\": \"이순신\", \"email\": \"sunsin@example.com\", \"age\": 45},\n",
    "    {\"name\": \"유관순\", \"email\": \"gwansun@example.com\", \"age\": 17},\n",
    "    {\"name\": \"세종대왕\", \"email\": \"sejong@example.com\", \"age\": 32}\n",
    "]\n",
    "\n",
    "# insert_many() 메소드로 여러 문서 삽입\n",
    "result = collection.insert_many(user_docs)\n",
    "\n",
    "# 삽입된 문서들의 고유 ID 리스트 확인\n",
    "print(f\"여러 문서가 삽입되었습니다. IDs: {result.inserted_ids}\")\n",
    "\n",
    "client.close()\n"
   ]
  },
  {
   "cell_type": "code",
   "execution_count": 10,
   "id": "58f860ed-9064-4cca-9a0d-9756d03fc4ff",
   "metadata": {},
   "outputs": [
    {
     "name": "stdout",
     "output_type": "stream",
     "text": [
      "샘플 데이터가 삽입되었습니다.\n"
     ]
    }
   ],
   "source": [
    "from pymongo import MongoClient\n",
    "\n",
    "client = MongoClient('mongodb://localhost:27017/')\n",
    "db = client['my_database']\n",
    "# 이전 데이터를 깔끔하게 지우고 새로 시작하고 싶다면 아래 라인의 주석을 해제하세요.\n",
    "# db.users.drop()\n",
    "users_collection = db['users']\n",
    "\n",
    "# 데이터가 비어있을 때만 샘플 데이터 삽입\n",
    "if users_collection.count_documents({}) == 0:\n",
    "    users_collection.insert_many([\n",
    "        {\"name\": \"홍길동\", \"age\": 25, \"city\": \"서울\", \"skills\": [\"Python\", \"DB\"]},\n",
    "        {\"name\": \"이순신\", \"age\": 45, \"city\": \"서울\", \"skills\": [\"Leadership\", \"Strategy\"]},\n",
    "        {\"name\": \"유관순\", \"age\": 17, \"city\": \"충남\", \"skills\": [\"History\", \"Public Speaking\"]},\n",
    "        {\"name\": \"세종대왕\", \"age\": 32, \"city\": \"서울\", \"skills\": [\"Python\", \"AI\", \"Korean\"]},\n",
    "        {\"name\": \"장영실\", \"age\": 28, \"city\": \"부산\", \"skills\": [\"Python\", \"Engineering\"]}\n",
    "    ])\n",
    "    print(\"샘플 데이터가 삽입되었습니다.\")\n"
   ]
  },
  {
   "cell_type": "code",
   "execution_count": 12,
   "id": "74830b6d-a08b-48be-a6f4-5694fef362bb",
   "metadata": {},
   "outputs": [
    {
     "name": "stdout",
     "output_type": "stream",
     "text": [
      "{'_id': ObjectId('6847a0908f5735a55d32acc3'), 'name': '홍길동', 'age': 25, 'city': '서울', 'skills': ['Python', 'DB']}\n",
      "{'_id': ObjectId('6847a0908f5735a55d32acc6'), 'name': '세종대왕', 'age': 32, 'city': '서울', 'skills': ['Python', 'AI', 'Korean']}\n"
     ]
    }
   ],
   "source": [
    "# 조건 없이 첫 번째 문서 하나 가져오기\n",
    "first_user = users_collection.find_one()\n",
    "print(first_user)\n",
    "\n",
    "# 조건에 맞는 문서 하나 가져오기\n",
    "sejong = users_collection.find_one({\"name\": \"세종대왕\"})\n",
    "print(sejong)\n"
   ]
  },
  {
   "cell_type": "code",
   "execution_count": 11,
   "id": "8840354a-68be-4956-b57e-8d9d76ba52d4",
   "metadata": {},
   "outputs": [
    {
     "name": "stdout",
     "output_type": "stream",
     "text": [
      "<class 'pymongo.synchronous.cursor.Cursor'>\n",
      "{'_id': ObjectId('6847a0908f5735a55d32acc3'), 'name': '홍길동', 'age': 25, 'city': '서울', 'skills': ['Python', 'DB']}\n",
      "{'_id': ObjectId('6847a0908f5735a55d32acc4'), 'name': '이순신', 'age': 45, 'city': '서울', 'skills': ['Leadership', 'Strategy']}\n",
      "{'_id': ObjectId('6847a0908f5735a55d32acc6'), 'name': '세종대왕', 'age': 32, 'city': '서울', 'skills': ['Python', 'AI', 'Korean']}\n"
     ]
    }
   ],
   "source": [
    "# '서울'에 사는 모든 사용자 조회\n",
    "seoul_users = users_collection.find({\"city\": \"서울\"})\n",
    "\n",
    "print(type(seoul_users)) # <class 'pymongo.cursor.Cursor'>\n",
    "\n",
    "for user in seoul_users:\n",
    "    print(user)\n"
   ]
  },
  {
   "cell_type": "code",
   "execution_count": 15,
   "id": "c74adbde-e77b-42fc-96ac-6a7640b3c515",
   "metadata": {},
   "outputs": [
    {
     "name": "stdout",
     "output_type": "stream",
     "text": [
      "유관순 17\n"
     ]
    }
   ],
   "source": [
    "# 나이가 30세 미만인 사용자 조회\n",
    "young_users = users_collection.find({\"age\": {\"$lt\": 20}})\n",
    "for user in young_users:\n",
    "    print(user['name'], user['age'])\n"
   ]
  },
  {
   "cell_type": "code",
   "execution_count": 19,
   "id": "b423147f-3c44-4a8d-b722-4a923bd9e2e8",
   "metadata": {},
   "outputs": [
    {
     "name": "stdout",
     "output_type": "stream",
     "text": [
      "홍길동\n",
      "장영실\n",
      "홍길동님은 Python 능력자!\n",
      "세종대왕님은 Python 능력자!\n",
      "장영실님은 Python 능력자!\n"
     ]
    }
   ],
   "source": [
    "# '홍길동' 또는 '장영실' 조회\n",
    "some_users = users_collection.find({\"name\": {\"$in\": [\"홍길동\", \"장영실\"]}})\n",
    "for user in some_users:\n",
    "    print(user['name'])\n",
    "\n",
    "# 'Python' 스킬을 보유한 모든 사용자 조회 (배열 필드 쿼리)\n",
    "python_users = users_collection.find({\"skills\": \"Python\"}) # 이 방식도 가능!\n",
    "for user in python_users:\n",
    "    print(f\"{user['name']}님은 Python 능력자!\")\n"
   ]
  },
  {
   "cell_type": "code",
   "execution_count": 22,
   "id": "5f3e92d0-b128-4641-a101-e8882c232bf7",
   "metadata": {},
   "outputs": [
    {
     "name": "stdout",
     "output_type": "stream",
     "text": [
      "[AND] 이순신\n",
      "[AND] 세종대왕\n",
      "[OR] 이순신 서울 ['Leadership', 'Strategy']\n",
      "[OR] 장영실 부산 ['Python', 'Engineering']\n"
     ]
    }
   ],
   "source": [
    "# AND 조건: 서울에 살면서, 나이가 30세 이상인 사용자\n",
    "# 아래 두 쿼리는 동일하게 동작합니다.\n",
    "# 1. 암시적 AND\n",
    "query1 = {\"city\": \"서울\", \"age\": {\"$gte\": 30}}\n",
    "# 2. 명시적 AND (같은 필드에 다른 조건을 걸 때 유용)\n",
    "query2 = {\"$and\": [{\"city\": \"서울\"}, {\"age\": {\"$gte\": 30}}]}\n",
    "\n",
    "users = users_collection.find(query1)\n",
    "for user in users:\n",
    "    print(f\"[AND] {user['name']}\")\n",
    "\n",
    "# OR 조건: 부산에 살거나, 'Leadership' 스킬을 가진 사용자\n",
    "query3 = {\"$or\": [{\"city\": \"부산\"}, {\"skills\": \"Leadership\"}]}\n",
    "users = users_collection.find(query3)\n",
    "for user in users:\n",
    "    print(f\"[OR] {user['name']} {user['city']} {user['skills']}\")\n"
   ]
  },
  {
   "cell_type": "code",
   "execution_count": 23,
   "id": "297e0aa4-1112-4569-8139-ecf4b983537d",
   "metadata": {},
   "outputs": [
    {
     "name": "stdout",
     "output_type": "stream",
     "text": [
      "[OR] 홍길동 서울 ['Python', 'DB']\n",
      "[OR] 유관순 충남 ['History', 'Public Speaking']\n",
      "[OR] 세종대왕 서울 ['Python', 'AI', 'Korean']\n"
     ]
    }
   ],
   "source": [
    "query4 = {\"$nor\": [{\"city\": \"부산\"}, {\"skills\": \"Leadership\"}]}\n",
    "users = users_collection.find(query4)\n",
    "for user in users:\n",
    "    print(f\"[OR] {user['name']} {user['city']} {user['skills']}\")"
   ]
  },
  {
   "cell_type": "code",
   "execution_count": 24,
   "id": "0151d29e-2b04-459e-a480-dc1a49982f05",
   "metadata": {},
   "outputs": [
    {
     "name": "stdout",
     "output_type": "stream",
     "text": [
      "{'_id': ObjectId('6847a0908f5735a55d32acc3'), 'name': '홍길동', 'age': 25}\n",
      "{'_id': ObjectId('6847a0908f5735a55d32acc4'), 'name': '이순신', 'age': 45}\n",
      "{'_id': ObjectId('6847a0908f5735a55d32acc5'), 'name': '유관순', 'age': 17}\n",
      "{'_id': ObjectId('6847a0908f5735a55d32acc6'), 'name': '세종대왕', 'age': 32}\n",
      "{'_id': ObjectId('6847a0908f5735a55d32acc7'), 'name': '장영실', 'age': 28}\n",
      "{'name': '홍길동', 'age': 25}\n",
      "{'name': '이순신', 'age': 45}\n",
      "{'name': '유관순', 'age': 17}\n",
      "{'name': '세종대왕', 'age': 32}\n",
      "{'name': '장영실', 'age': 28}\n"
     ]
    }
   ],
   "source": [
    "# 모든 사용자의 이름과 나이만 가져오기 (_id는 자동으로 포함됨)\n",
    "results = users_collection.find({}, {\"name\": 1, \"age\": 1})\n",
    "for r in results:\n",
    "    print(r)\n",
    "\n",
    "# 모든 사용자의 이름과 나이만 가져오기 (_id는 제외)\n",
    "results = users_collection.find({}, {\"name\": 1, \"age\": 1, \"_id\": 0})\n",
    "for r in results:\n",
    "    print(r)\n"
   ]
  },
  {
   "cell_type": "code",
   "execution_count": 25,
   "id": "ec70df2a-e133-4935-88e2-171f21081cfa",
   "metadata": {},
   "outputs": [
    {
     "name": "stdout",
     "output_type": "stream",
     "text": [
      "--- 나이 많은 순 Top 3 ---\n",
      "이순신 (45)\n",
      "세종대왕 (32)\n",
      "장영실 (28)\n",
      "--- 이름순 정렬 2 페이지 ---\n",
      "이순신\n",
      "장영실\n"
     ]
    }
   ],
   "source": [
    "# 나이순으로 내림차순 정렬하여 상위 3명만 조회\n",
    "top3_users = users_collection.find().sort(\"age\", -1).limit(3)\n",
    "print(\"--- 나이 많은 순 Top 3 ---\")\n",
    "for user in top3_users:\n",
    "    print(f\"{user['name']} ({user['age']})\")\n",
    "\n",
    "# 페이지네이션 예제: 한 페이지에 2명씩, 2번째 페이지 조회\n",
    "# 1페이지: skip(0).limit(2)\n",
    "# 2페이지: skip(2).limit(2)\n",
    "page_size = 2\n",
    "page_num = 2\n",
    "paged_users = users_collection.find().sort(\"name\", 1).skip((page_num - 1) * page_size).limit(page_size)\n",
    "print(f\"--- 이름순 정렬 {page_num} 페이지 ---\")\n",
    "for user in paged_users:\n",
    "    print(user['name'])\n"
   ]
  },
  {
   "cell_type": "code",
   "execution_count": 27,
   "id": "40b9f5c5-31db-4121-95d3-d0b3d72c3ede",
   "metadata": {},
   "outputs": [
    {
     "name": "stdout",
     "output_type": "stream",
     "text": [
      "Matched: 1, Modified: 0\n",
      "Matched: 3, Modified: 3\n"
     ]
    },
    {
     "data": {
      "text/plain": [
       "UpdateResult({'n': 1, 'nModified': 1, 'ok': 1.0, 'updatedExisting': True}, acknowledged=True)"
      ]
     },
     "execution_count": 27,
     "metadata": {},
     "output_type": "execute_result"
    }
   ],
   "source": [
    "# [update_one] 홍길동의 나이를 26으로 수정($set)\n",
    "result = users_collection.update_one(\n",
    "    {\"name\": \"홍길동\"},\n",
    "    {\"$set\": {\"age\": 26}}\n",
    ")\n",
    "print(f\"Matched: {result.matched_count}, Modified: {result.modified_count}\")\n",
    "\n",
    "# [update_one] 홍길동의 나이를 1 증가($inc)하고, 사는 곳 필드 추가\n",
    "result = users_collection.update_one(\n",
    "    {\"name\": \"홍길동\"},\n",
    "    {\n",
    "        \"$inc\": {\"age\": 1},\n",
    "        \"$set\": {\"location\": \"Seoul, KR\"}\n",
    "    }\n",
    ")\n",
    "# [unset] 홍길동의 location 필드 제거\n",
    "users_collection.update_one({\"name\": \"홍길동\"}, {\"$unset\": {\"location\": 1}})\n"
   ]
  },
  {
   "cell_type": "code",
   "execution_count": 28,
   "id": "3c84c6de-5e23-492a-8676-1fd664d83c0b",
   "metadata": {},
   "outputs": [
    {
     "data": {
      "text/plain": [
       "{'_id': ObjectId('6847a0908f5735a55d32acc4'),\n",
       " 'name': '이순신',\n",
       " 'age': 45,\n",
       " 'city': '서울특별시',\n",
       " 'skills': ['Leadership', 'Strategy']}"
      ]
     },
     "execution_count": 28,
     "metadata": {},
     "output_type": "execute_result"
    }
   ],
   "source": [
    "users_collection.find_one({\"name\":\"이순신\"})"
   ]
  },
  {
   "cell_type": "code",
   "execution_count": 29,
   "id": "7d65c498-2f32-4a90-99ef-5903ff5b92d3",
   "metadata": {},
   "outputs": [
    {
     "name": "stdout",
     "output_type": "stream",
     "text": [
      "Matched: 0, Modified: 0\n"
     ]
    }
   ],
   "source": [
    "# [update_many] '서울'에 사는 모든 사용자의 city를 '서울특별시'로 변경\n",
    "result = users_collection.update_many(\n",
    "    {\"city\": \"서울\"},\n",
    "    {\"$set\": {\"city\": \"서울특별시\"}}\n",
    ")\n",
    "print(f\"Matched: {result.matched_count}, Modified: {result.modified_count}\")"
   ]
  },
  {
   "cell_type": "code",
   "execution_count": 36,
   "id": "2fce66a0-7794-49e0-b429-3b2b9bb263e2",
   "metadata": {},
   "outputs": [
    {
     "name": "stdout",
     "output_type": "stream",
     "text": [
      "0\n",
      "3\n"
     ]
    }
   ],
   "source": [
    "result = users_collection.find({\"city\":\"서울\"})\n",
    "print(len(list(result)))\n",
    "result = users_collection.find({\"city\":\"서울특별시\"})\n",
    "print(len(list(result)))"
   ]
  },
  {
   "cell_type": "code",
   "execution_count": 43,
   "id": "35487456-514e-4334-8f61-b9764615602f",
   "metadata": {},
   "outputs": [
    {
     "name": "stdout",
     "output_type": "stream",
     "text": [
      "전체 문서수= 5\n",
      "서울특별시 문서수= 3\n"
     ]
    }
   ],
   "source": [
    "cnt = users_collection.count_documents({})\n",
    "print(\"전체 문서수=\",cnt)\n",
    "cnt = users_collection.count_documents(\n",
    "    {\"city\":\"서울특별시\"})\n",
    "print(\"서울특별시 문서수=\",cnt)"
   ]
  },
  {
   "cell_type": "code",
   "execution_count": 45,
   "id": "36205bbd-573c-49cc-ba9d-7e4522cf4ae1",
   "metadata": {},
   "outputs": [
    {
     "name": "stdout",
     "output_type": "stream",
     "text": [
      "{'_id': ObjectId('6847a0908f5735a55d32acc7'), 'name': '장영실', 'age': 28, 'city': '부산', 'skills': ['Python', 'Engineering']}\n",
      "{'_id': ObjectId('6847a0908f5735a55d32acc7'), 'name': '장영실', 'age': 28, 'city': '부산', 'skills': ['Python', 'Engineering', 'MongoDB']}\n"
     ]
    }
   ],
   "source": [
    "# '장영실'의 skills 배열에 'MongoDB' 추가\n",
    "print(users_collection.find_one({\"name\":\"장영실\"}))\n",
    "users_collection.update_one(\n",
    "    {\"name\": \"장영실\"},\n",
    "    {\"$push\": {\"skills\": \"MongoDB\"}}\n",
    ")\n",
    "print(users_collection.find_one({\"name\":\"장영실\"}))"
   ]
  },
  {
   "cell_type": "code",
   "execution_count": 55,
   "id": "d7505029-7afa-49d3-92be-07432a769dd9",
   "metadata": {},
   "outputs": [
    {
     "name": "stdout",
     "output_type": "stream",
     "text": [
      "남은 사용자 수:,5\n"
     ]
    }
   ],
   "source": [
    "print(f\"남은 사용자 수:,{users_collection.count_documents({})}\")"
   ]
  },
  {
   "cell_type": "code",
   "execution_count": 56,
   "id": "381d1a6f-2e8d-4aff-b2f7-b187d6fd8adf",
   "metadata": {},
   "outputs": [
    {
     "name": "stdout",
     "output_type": "stream",
     "text": [
      "샘플 데이터 생성 중...\n",
      "샘플 데이터 생성 완료!\n"
     ]
    }
   ],
   "source": [
    "import pymongo\n",
    "from pymongo import MongoClient\n",
    "\n",
    "client = MongoClient('mongodb://localhost:27017/')\n",
    "db = client['performance_db']\n",
    "# 기존 컬렉션이 있다면 삭제\n",
    "db.perf_users.drop()\n",
    "perf_users_collection = db['perf_users']\n",
    "\n",
    "# 약 10만 개의 샘플 데이터 생성 (시간이 조금 걸릴 수 있습니다)\n",
    "if perf_users_collection.count_documents({}) == 0:\n",
    "    print(\"샘플 데이터 생성 중...\")\n",
    "    users_to_insert = []\n",
    "    for i in range(100000):\n",
    "        users_to_insert.append({\"user_id\": i, \"name\": f\"user_{i}\", \"country\": \"KR\"})\n",
    "    perf_users_collection.insert_many(users_to_insert)\n",
    "    print(\"샘플 데이터 생성 완료!\")\n"
   ]
  },
  {
   "cell_type": "code",
   "execution_count": 57,
   "id": "fccf31cd-59b4-48ff-adcb-a33115ca7444",
   "metadata": {},
   "outputs": [
    {
     "data": {
      "text/plain": [
       "100000"
      ]
     },
     "execution_count": 57,
     "metadata": {},
     "output_type": "execute_result"
    }
   ],
   "source": [
    "perf_users_collection.count_documents({})"
   ]
  },
  {
   "cell_type": "code",
   "execution_count": 58,
   "id": "d58afa59-0fb6-49be-9d7a-3ba4165a2d27",
   "metadata": {},
   "outputs": [
    {
     "name": "stdout",
     "output_type": "stream",
     "text": [
      "'user_id' 필드에 인덱스가 생성되었습니다.\n"
     ]
    }
   ],
   "source": [
    "# 'user_id' 필드에 오름차순(ASCENDING) 인덱스 생성\n",
    "# pymongo.ASCENDING 오름차순 정렬\n",
    "# pymongo.DESCENDING 내림차순 정렬\n",
    "perf_users_collection.create_index([(\"user_id\", pymongo.ASCENDING)])\n",
    "print(\"'user_id' 필드에 인덱스가 생성되었습니다.\")\n"
   ]
  },
  {
   "cell_type": "code",
   "execution_count": 78,
   "id": "5da40d4e-1836-4cd6-9dbb-54b5b05f888b",
   "metadata": {},
   "outputs": [
    {
     "name": "stdout",
     "output_type": "stream",
     "text": [
      "'name' 필드에 고유 인덱스가 생성되었습니다.\n",
      "고유 인덱스 위반! -> E11000 duplicate key error collection: performance_db.perf_users index: perf_users_collection.unique.name dup key: { name: \"user_1\" }, full error: {'index': 0, 'code': 11000, 'errmsg': 'E11000 duplicate key error collection: performance_db.perf_users index: perf_users_collection.unique.name dup key: { name: \"user_1\" }', 'keyPattern': {'name': 1}, 'keyValue': {'name': 'user_1'}}\n"
     ]
    }
   ],
   "source": [
    "# 'name' 필드에 고유 인덱스 생성\n",
    "# unique=True 중복금지 \n",
    "# name=인덱스이름\n",
    "perf_users_collection.create_index([(\"name\", pymongo.ASCENDING)], \n",
    "                                   unique=True, \n",
    "                                   name=\"perf_users_collection.unique.name\") # 이름 지정\n",
    "print(\"'name' 필드에 고유 인덱스가 생성되었습니다.\")\n",
    "\n",
    "# 중복 데이터 삽입 시도 -> 에러 발생!\n",
    "try:\n",
    "    perf_users_collection.insert_one({\"name\": \"user_1\", \"country\": \"US\"})\n",
    "except pymongo.errors.DuplicateKeyError as e:\n",
    "    print(f\"고유 인덱스 위반! -> {e}\")\n"
   ]
  },
  {
   "cell_type": "code",
   "execution_count": 61,
   "id": "bfe94167-80c8-46f3-8be1-06ac68245d7c",
   "metadata": {},
   "outputs": [
    {
     "name": "stdout",
     "output_type": "stream",
     "text": [
      "{'_id': ObjectId('6847cb198f5735a55d32acc9'), 'user_id': 0, 'name': 'user_0', 'country': 'KR'}\n",
      "{'_id': ObjectId('6847cb198f5735a55d32acca'), 'user_id': 1, 'name': 'user_1', 'country': 'KR'}\n",
      "{'_id': ObjectId('6847cb198f5735a55d32accb'), 'user_id': 2, 'name': 'user_2', 'country': 'KR'}\n",
      "{'_id': ObjectId('6847cb198f5735a55d32accc'), 'user_id': 3, 'name': 'user_3', 'country': 'KR'}\n",
      "{'_id': ObjectId('6847cb198f5735a55d32accd'), 'user_id': 4, 'name': 'user_4', 'country': 'KR'}\n"
     ]
    }
   ],
   "source": [
    "for u in perf_users_collection.find({}).limit(5):\n",
    "    print(u)"
   ]
  },
  {
   "cell_type": "code",
   "execution_count": 67,
   "id": "8788ebde-29b0-489a-90ab-c47f9da1ac66",
   "metadata": {
    "collapsed": true,
    "jupyter": {
     "outputs_hidden": true
    }
   },
   "outputs": [
    {
     "ename": "OperationFailure",
     "evalue": "An existing index has the same name as the requested index. When index names are not specified, they are auto generated and can cause conflicts. Please refer to our documentation. Requested index: { v: 2, unique: true, key: { country: 1, user_id: -1 }, name: \"country_1_user_id_-1\" }, existing index: { v: 2, key: { country: 1, user_id: -1 }, name: \"country_1_user_id_-1\" }, full error: {'ok': 0.0, 'errmsg': 'An existing index has the same name as the requested index. When index names are not specified, they are auto generated and can cause conflicts. Please refer to our documentation. Requested index: { v: 2, unique: true, key: { country: 1, user_id: -1 }, name: \"country_1_user_id_-1\" }, existing index: { v: 2, key: { country: 1, user_id: -1 }, name: \"country_1_user_id_-1\" }', 'code': 86, 'codeName': 'IndexKeySpecsConflict'}",
     "output_type": "error",
     "traceback": [
      "\u001b[1;31m---------------------------------------------------------------------------\u001b[0m",
      "\u001b[1;31mOperationFailure\u001b[0m                          Traceback (most recent call last)",
      "Cell \u001b[1;32mIn[67], line 3\u001b[0m\n\u001b[0;32m      1\u001b[0m \u001b[38;5;66;03m# country를 먼저, 그 다음 user_id 순서로 복합 인덱스 생성\u001b[39;00m\n\u001b[0;32m      2\u001b[0m \u001b[38;5;66;03m# 'country'가 'KR'이고 'user_id'가 50000 이상인 사용자를 찾는 쿼리에 최적화됨\u001b[39;00m\n\u001b[1;32m----> 3\u001b[0m perf_users_collection\u001b[38;5;241m.\u001b[39mcreate_index([\n\u001b[0;32m      4\u001b[0m     (\u001b[38;5;124m\"\u001b[39m\u001b[38;5;124mcountry\u001b[39m\u001b[38;5;124m\"\u001b[39m, pymongo\u001b[38;5;241m.\u001b[39mASCENDING),\n\u001b[0;32m      5\u001b[0m     (\u001b[38;5;124m\"\u001b[39m\u001b[38;5;124muser_id\u001b[39m\u001b[38;5;124m\"\u001b[39m, pymongo\u001b[38;5;241m.\u001b[39mDESCENDING)], \u001b[38;5;66;03m# 방향은 쿼리에 맞춰 설정 가능\u001b[39;00m\n\u001b[0;32m      6\u001b[0m     unique\u001b[38;5;241m=\u001b[39m\u001b[38;5;28;01mTrue\u001b[39;00m\n\u001b[0;32m      7\u001b[0m )\n\u001b[0;32m      8\u001b[0m \u001b[38;5;28mprint\u001b[39m(\u001b[38;5;124m\"\u001b[39m\u001b[38;5;124m복합 인덱스(country, user_id)가 생성되었습니다.\u001b[39m\u001b[38;5;124m\"\u001b[39m)\n",
      "File \u001b[1;32m~\\anaconda3\\Lib\\site-packages\\pymongo\\synchronous\\collection.py:2378\u001b[0m, in \u001b[0;36mCollection.create_index\u001b[1;34m(self, keys, session, comment, **kwargs)\u001b[0m\n\u001b[0;32m   2376\u001b[0m     cmd_options[\u001b[38;5;124m\"\u001b[39m\u001b[38;5;124mcomment\u001b[39m\u001b[38;5;124m\"\u001b[39m] \u001b[38;5;241m=\u001b[39m comment\n\u001b[0;32m   2377\u001b[0m index \u001b[38;5;241m=\u001b[39m IndexModel(keys, \u001b[38;5;241m*\u001b[39m\u001b[38;5;241m*\u001b[39mkwargs)\n\u001b[1;32m-> 2378\u001b[0m \u001b[38;5;28;01mreturn\u001b[39;00m (\u001b[38;5;28mself\u001b[39m\u001b[38;5;241m.\u001b[39m_create_indexes([index], session, \u001b[38;5;241m*\u001b[39m\u001b[38;5;241m*\u001b[39mcmd_options))[\u001b[38;5;241m0\u001b[39m]\n",
      "File \u001b[1;32m~\\anaconda3\\Lib\\site-packages\\pymongo\\_csot.py:119\u001b[0m, in \u001b[0;36mapply.<locals>.csot_wrapper\u001b[1;34m(self, *args, **kwargs)\u001b[0m\n\u001b[0;32m    117\u001b[0m         \u001b[38;5;28;01mwith\u001b[39;00m _TimeoutContext(timeout):\n\u001b[0;32m    118\u001b[0m             \u001b[38;5;28;01mreturn\u001b[39;00m func(\u001b[38;5;28mself\u001b[39m, \u001b[38;5;241m*\u001b[39margs, \u001b[38;5;241m*\u001b[39m\u001b[38;5;241m*\u001b[39mkwargs)\n\u001b[1;32m--> 119\u001b[0m \u001b[38;5;28;01mreturn\u001b[39;00m func(\u001b[38;5;28mself\u001b[39m, \u001b[38;5;241m*\u001b[39margs, \u001b[38;5;241m*\u001b[39m\u001b[38;5;241m*\u001b[39mkwargs)\n",
      "File \u001b[1;32m~\\anaconda3\\Lib\\site-packages\\pymongo\\synchronous\\collection.py:2252\u001b[0m, in \u001b[0;36mCollection._create_indexes\u001b[1;34m(self, indexes, session, **kwargs)\u001b[0m\n\u001b[0;32m   2246\u001b[0m     \u001b[38;5;28;01mif\u001b[39;00m \u001b[38;5;124m\"\u001b[39m\u001b[38;5;124mcommitQuorum\u001b[39m\u001b[38;5;124m\"\u001b[39m \u001b[38;5;129;01min\u001b[39;00m kwargs \u001b[38;5;129;01mand\u001b[39;00m \u001b[38;5;129;01mnot\u001b[39;00m supports_quorum:\n\u001b[0;32m   2247\u001b[0m         \u001b[38;5;28;01mraise\u001b[39;00m ConfigurationError(\n\u001b[0;32m   2248\u001b[0m             \u001b[38;5;124m\"\u001b[39m\u001b[38;5;124mMust be connected to MongoDB 4.4+ to use the \u001b[39m\u001b[38;5;124m\"\u001b[39m\n\u001b[0;32m   2249\u001b[0m             \u001b[38;5;124m\"\u001b[39m\u001b[38;5;124mcommitQuorum option for createIndexes\u001b[39m\u001b[38;5;124m\"\u001b[39m\n\u001b[0;32m   2250\u001b[0m         )\n\u001b[1;32m-> 2252\u001b[0m     \u001b[38;5;28mself\u001b[39m\u001b[38;5;241m.\u001b[39m_command(\n\u001b[0;32m   2253\u001b[0m         conn,\n\u001b[0;32m   2254\u001b[0m         cmd,\n\u001b[0;32m   2255\u001b[0m         read_preference\u001b[38;5;241m=\u001b[39mReadPreference\u001b[38;5;241m.\u001b[39mPRIMARY,\n\u001b[0;32m   2256\u001b[0m         codec_options\u001b[38;5;241m=\u001b[39m_UNICODE_REPLACE_CODEC_OPTIONS,\n\u001b[0;32m   2257\u001b[0m         write_concern\u001b[38;5;241m=\u001b[39m\u001b[38;5;28mself\u001b[39m\u001b[38;5;241m.\u001b[39m_write_concern_for(session),\n\u001b[0;32m   2258\u001b[0m         session\u001b[38;5;241m=\u001b[39msession,\n\u001b[0;32m   2259\u001b[0m     )\n\u001b[0;32m   2260\u001b[0m \u001b[38;5;28;01mreturn\u001b[39;00m names\n",
      "File \u001b[1;32m~\\anaconda3\\Lib\\site-packages\\pymongo\\synchronous\\collection.py:621\u001b[0m, in \u001b[0;36mCollection._command\u001b[1;34m(self, conn, command, read_preference, codec_options, check, allowable_errors, read_concern, write_concern, collation, session, retryable_write, user_fields)\u001b[0m\n\u001b[0;32m    595\u001b[0m \u001b[38;5;250m\u001b[39m\u001b[38;5;124;03m\"\"\"Internal command helper.\u001b[39;00m\n\u001b[0;32m    596\u001b[0m \n\u001b[0;32m    597\u001b[0m \u001b[38;5;124;03m:param conn` - A Connection instance.\u001b[39;00m\n\u001b[1;32m   (...)\u001b[0m\n\u001b[0;32m    618\u001b[0m \u001b[38;5;124;03m:return: The result document.\u001b[39;00m\n\u001b[0;32m    619\u001b[0m \u001b[38;5;124;03m\"\"\"\u001b[39;00m\n\u001b[0;32m    620\u001b[0m \u001b[38;5;28;01mwith\u001b[39;00m \u001b[38;5;28mself\u001b[39m\u001b[38;5;241m.\u001b[39m_database\u001b[38;5;241m.\u001b[39mclient\u001b[38;5;241m.\u001b[39m_tmp_session(session) \u001b[38;5;28;01mas\u001b[39;00m s:\n\u001b[1;32m--> 621\u001b[0m     \u001b[38;5;28;01mreturn\u001b[39;00m conn\u001b[38;5;241m.\u001b[39mcommand(\n\u001b[0;32m    622\u001b[0m         \u001b[38;5;28mself\u001b[39m\u001b[38;5;241m.\u001b[39m_database\u001b[38;5;241m.\u001b[39mname,\n\u001b[0;32m    623\u001b[0m         command,\n\u001b[0;32m    624\u001b[0m         read_preference \u001b[38;5;129;01mor\u001b[39;00m \u001b[38;5;28mself\u001b[39m\u001b[38;5;241m.\u001b[39m_read_preference_for(session),\n\u001b[0;32m    625\u001b[0m         codec_options \u001b[38;5;129;01mor\u001b[39;00m \u001b[38;5;28mself\u001b[39m\u001b[38;5;241m.\u001b[39mcodec_options,\n\u001b[0;32m    626\u001b[0m         check,\n\u001b[0;32m    627\u001b[0m         allowable_errors,\n\u001b[0;32m    628\u001b[0m         read_concern\u001b[38;5;241m=\u001b[39mread_concern,\n\u001b[0;32m    629\u001b[0m         write_concern\u001b[38;5;241m=\u001b[39mwrite_concern,\n\u001b[0;32m    630\u001b[0m         parse_write_concern_error\u001b[38;5;241m=\u001b[39m\u001b[38;5;28;01mTrue\u001b[39;00m,\n\u001b[0;32m    631\u001b[0m         collation\u001b[38;5;241m=\u001b[39mcollation,\n\u001b[0;32m    632\u001b[0m         session\u001b[38;5;241m=\u001b[39ms,\n\u001b[0;32m    633\u001b[0m         client\u001b[38;5;241m=\u001b[39m\u001b[38;5;28mself\u001b[39m\u001b[38;5;241m.\u001b[39m_database\u001b[38;5;241m.\u001b[39mclient,\n\u001b[0;32m    634\u001b[0m         retryable_write\u001b[38;5;241m=\u001b[39mretryable_write,\n\u001b[0;32m    635\u001b[0m         user_fields\u001b[38;5;241m=\u001b[39muser_fields,\n\u001b[0;32m    636\u001b[0m     )\n",
      "File \u001b[1;32m~\\anaconda3\\Lib\\site-packages\\pymongo\\synchronous\\helpers.py:47\u001b[0m, in \u001b[0;36m_handle_reauth.<locals>.inner\u001b[1;34m(*args, **kwargs)\u001b[0m\n\u001b[0;32m     44\u001b[0m \u001b[38;5;28;01mfrom\u001b[39;00m \u001b[38;5;21;01mpymongo\u001b[39;00m\u001b[38;5;21;01m.\u001b[39;00m\u001b[38;5;21;01msynchronous\u001b[39;00m\u001b[38;5;21;01m.\u001b[39;00m\u001b[38;5;21;01mpool\u001b[39;00m \u001b[38;5;28;01mimport\u001b[39;00m Connection\n\u001b[0;32m     46\u001b[0m \u001b[38;5;28;01mtry\u001b[39;00m:\n\u001b[1;32m---> 47\u001b[0m     \u001b[38;5;28;01mreturn\u001b[39;00m func(\u001b[38;5;241m*\u001b[39margs, \u001b[38;5;241m*\u001b[39m\u001b[38;5;241m*\u001b[39mkwargs)\n\u001b[0;32m     48\u001b[0m \u001b[38;5;28;01mexcept\u001b[39;00m OperationFailure \u001b[38;5;28;01mas\u001b[39;00m exc:\n\u001b[0;32m     49\u001b[0m     \u001b[38;5;28;01mif\u001b[39;00m no_reauth:\n",
      "File \u001b[1;32m~\\anaconda3\\Lib\\site-packages\\pymongo\\synchronous\\pool.py:414\u001b[0m, in \u001b[0;36mConnection.command\u001b[1;34m(self, dbname, spec, read_preference, codec_options, check, allowable_errors, read_concern, write_concern, parse_write_concern_error, collation, session, client, retryable_write, publish_events, user_fields, exhaust_allowed)\u001b[0m\n\u001b[0;32m    412\u001b[0m     \u001b[38;5;28mself\u001b[39m\u001b[38;5;241m.\u001b[39m_raise_if_not_writable(unacknowledged)\n\u001b[0;32m    413\u001b[0m \u001b[38;5;28;01mtry\u001b[39;00m:\n\u001b[1;32m--> 414\u001b[0m     \u001b[38;5;28;01mreturn\u001b[39;00m command(\n\u001b[0;32m    415\u001b[0m         \u001b[38;5;28mself\u001b[39m,\n\u001b[0;32m    416\u001b[0m         dbname,\n\u001b[0;32m    417\u001b[0m         spec,\n\u001b[0;32m    418\u001b[0m         \u001b[38;5;28mself\u001b[39m\u001b[38;5;241m.\u001b[39mis_mongos,\n\u001b[0;32m    419\u001b[0m         read_preference,\n\u001b[0;32m    420\u001b[0m         codec_options,\n\u001b[0;32m    421\u001b[0m         session,\n\u001b[0;32m    422\u001b[0m         client,\n\u001b[0;32m    423\u001b[0m         check,\n\u001b[0;32m    424\u001b[0m         allowable_errors,\n\u001b[0;32m    425\u001b[0m         \u001b[38;5;28mself\u001b[39m\u001b[38;5;241m.\u001b[39maddress,\n\u001b[0;32m    426\u001b[0m         listeners,\n\u001b[0;32m    427\u001b[0m         \u001b[38;5;28mself\u001b[39m\u001b[38;5;241m.\u001b[39mmax_bson_size,\n\u001b[0;32m    428\u001b[0m         read_concern,\n\u001b[0;32m    429\u001b[0m         parse_write_concern_error\u001b[38;5;241m=\u001b[39mparse_write_concern_error,\n\u001b[0;32m    430\u001b[0m         collation\u001b[38;5;241m=\u001b[39mcollation,\n\u001b[0;32m    431\u001b[0m         compression_ctx\u001b[38;5;241m=\u001b[39m\u001b[38;5;28mself\u001b[39m\u001b[38;5;241m.\u001b[39mcompression_context,\n\u001b[0;32m    432\u001b[0m         use_op_msg\u001b[38;5;241m=\u001b[39m\u001b[38;5;28mself\u001b[39m\u001b[38;5;241m.\u001b[39mop_msg_enabled,\n\u001b[0;32m    433\u001b[0m         unacknowledged\u001b[38;5;241m=\u001b[39munacknowledged,\n\u001b[0;32m    434\u001b[0m         user_fields\u001b[38;5;241m=\u001b[39muser_fields,\n\u001b[0;32m    435\u001b[0m         exhaust_allowed\u001b[38;5;241m=\u001b[39mexhaust_allowed,\n\u001b[0;32m    436\u001b[0m         write_concern\u001b[38;5;241m=\u001b[39mwrite_concern,\n\u001b[0;32m    437\u001b[0m     )\n\u001b[0;32m    438\u001b[0m \u001b[38;5;28;01mexcept\u001b[39;00m (OperationFailure, NotPrimaryError):\n\u001b[0;32m    439\u001b[0m     \u001b[38;5;28;01mraise\u001b[39;00m\n",
      "File \u001b[1;32m~\\anaconda3\\Lib\\site-packages\\pymongo\\synchronous\\network.py:212\u001b[0m, in \u001b[0;36mcommand\u001b[1;34m(conn, dbname, spec, is_mongos, read_preference, codec_options, session, client, check, allowable_errors, address, listeners, max_bson_size, read_concern, parse_write_concern_error, collation, compression_ctx, use_op_msg, unacknowledged, user_fields, exhaust_allowed, write_concern)\u001b[0m\n\u001b[0;32m    210\u001b[0m             client\u001b[38;5;241m.\u001b[39m_process_response(response_doc, session)\n\u001b[0;32m    211\u001b[0m         \u001b[38;5;28;01mif\u001b[39;00m check:\n\u001b[1;32m--> 212\u001b[0m             helpers_shared\u001b[38;5;241m.\u001b[39m_check_command_response(\n\u001b[0;32m    213\u001b[0m                 response_doc,\n\u001b[0;32m    214\u001b[0m                 conn\u001b[38;5;241m.\u001b[39mmax_wire_version,\n\u001b[0;32m    215\u001b[0m                 allowable_errors,\n\u001b[0;32m    216\u001b[0m                 parse_write_concern_error\u001b[38;5;241m=\u001b[39mparse_write_concern_error,\n\u001b[0;32m    217\u001b[0m             )\n\u001b[0;32m    218\u001b[0m \u001b[38;5;28;01mexcept\u001b[39;00m \u001b[38;5;167;01mException\u001b[39;00m \u001b[38;5;28;01mas\u001b[39;00m exc:\n\u001b[0;32m    219\u001b[0m     duration \u001b[38;5;241m=\u001b[39m datetime\u001b[38;5;241m.\u001b[39mdatetime\u001b[38;5;241m.\u001b[39mnow() \u001b[38;5;241m-\u001b[39m start\n",
      "File \u001b[1;32m~\\anaconda3\\Lib\\site-packages\\pymongo\\helpers_shared.py:250\u001b[0m, in \u001b[0;36m_check_command_response\u001b[1;34m(response, max_wire_version, allowable_errors, parse_write_concern_error)\u001b[0m\n\u001b[0;32m    247\u001b[0m \u001b[38;5;28;01melif\u001b[39;00m code \u001b[38;5;241m==\u001b[39m \u001b[38;5;241m43\u001b[39m:\n\u001b[0;32m    248\u001b[0m     \u001b[38;5;28;01mraise\u001b[39;00m CursorNotFound(errmsg, code, response, max_wire_version)\n\u001b[1;32m--> 250\u001b[0m \u001b[38;5;28;01mraise\u001b[39;00m OperationFailure(errmsg, code, response, max_wire_version)\n",
      "\u001b[1;31mOperationFailure\u001b[0m: An existing index has the same name as the requested index. When index names are not specified, they are auto generated and can cause conflicts. Please refer to our documentation. Requested index: { v: 2, unique: true, key: { country: 1, user_id: -1 }, name: \"country_1_user_id_-1\" }, existing index: { v: 2, key: { country: 1, user_id: -1 }, name: \"country_1_user_id_-1\" }, full error: {'ok': 0.0, 'errmsg': 'An existing index has the same name as the requested index. When index names are not specified, they are auto generated and can cause conflicts. Please refer to our documentation. Requested index: { v: 2, unique: true, key: { country: 1, user_id: -1 }, name: \"country_1_user_id_-1\" }, existing index: { v: 2, key: { country: 1, user_id: -1 }, name: \"country_1_user_id_-1\" }', 'code': 86, 'codeName': 'IndexKeySpecsConflict'}"
     ]
    }
   ],
   "source": [
    "# country를 먼저, 그 다음 user_id 순서로 복합 인덱스 생성\n",
    "# 'country'가 'KR'이고 'user_id'가 50000 이상인 사용자를 찾는 쿼리에 최적화됨\n",
    "perf_users_collection.create_index([\n",
    "    (\"country\", pymongo.ASCENDING),\n",
    "    (\"user_id\", pymongo.DESCENDING) # 방향은 쿼리에 맞춰 설정 가능\n",
    "])\n",
    "print(\"복합 인덱스(country, user_id)가 생성되었습니다.\")\n"
   ]
  },
  {
   "cell_type": "code",
   "execution_count": 111,
   "id": "79c193f1-07bd-4223-8009-cfc39ed05071",
   "metadata": {},
   "outputs": [
    {
     "name": "stdout",
     "output_type": "stream",
     "text": [
      "SON([('v', 2), ('key', SON([('_id', 1)])), ('name', '_id_')])\n",
      "SON([('v', 2), ('key', SON([('name', 1)])), ('name', 'perf_users_collection.unique.name'), ('unique', True)])\n"
     ]
    }
   ],
   "source": [
    "# 현재 컬렉션에 생성된 모든 인덱스 확인\n",
    "for index in perf_users_collection.list_indexes():\n",
    "    print(index)\n",
    "\n",
    "# 특정 인덱스 삭제\n",
    "# perf_users_collection.drop_index(\"name_1\") # 인덱스 이름으로 삭제\n",
    "\n",
    "# 모든 인덱스 삭제 (_id 인덱스 제외)\n",
    "# perf_users_collection.drop_indexes()\n"
   ]
  },
  {
   "cell_type": "code",
   "execution_count": 80,
   "id": "5cb33edf-e8b3-4a98-81ec-547bfa6b42c1",
   "metadata": {},
   "outputs": [
    {
     "name": "stdout",
     "output_type": "stream",
     "text": [
      "재고 데이터가 준비되었습니다.\n"
     ]
    }
   ],
   "source": [
    "db = client['aggregation_db']\n",
    "db.inventory.drop()\n",
    "inventory_collection = db.inventory\n",
    "inventory_collection.insert_many([\n",
    "   {\"item\": \"journal\", \"qty\": 25, \"size\": { \"h\": 14, \"w\": 21, \"uom\": \"cm\" }, \"status\": \"A\"},\n",
    "   {\"item\": \"notebook\", \"qty\": 50, \"size\": { \"h\": 8.5, \"w\": 11, \"uom\": \"in\" }, \"status\": \"A\"},\n",
    "   {\"item\": \"paper\", \"qty\": 100, \"size\": { \"h\": 8.5, \"w\": 11, \"uom\": \"in\" }, \"status\": \"D\"},\n",
    "   {\"item\": \"planner\", \"qty\": 75, \"size\": { \"h\": 22.85, \"w\": 30, \"uom\": \"cm\" }, \"status\": \"D\"},\n",
    "   {\"item\": \"postcard\", \"qty\": 45, \"size\": { \"h\": 10, \"w\": 15.25, \"uom\": \"cm\" }, \"status\": \"A\"}\n",
    "])\n",
    "print(\"재고 데이터가 준비되었습니다.\")\n"
   ]
  },
  {
   "cell_type": "code",
   "execution_count": 81,
   "id": "63214169-7c44-4762-9f7a-b9d5f732157f",
   "metadata": {},
   "outputs": [
    {
     "name": "stdout",
     "output_type": "stream",
     "text": [
      "{'_id': ObjectId('6847d48e8f5735a55d34336b'), 'item': 'journal', 'qty': 25, 'size': {'h': 14, 'w': 21, 'uom': 'cm'}, 'status': 'A'}\n",
      "{'_id': ObjectId('6847d48e8f5735a55d34336c'), 'item': 'notebook', 'qty': 50, 'size': {'h': 8.5, 'w': 11, 'uom': 'in'}, 'status': 'A'}\n",
      "{'_id': ObjectId('6847d48e8f5735a55d34336f'), 'item': 'postcard', 'qty': 45, 'size': {'h': 10, 'w': 15.25, 'uom': 'cm'}, 'status': 'A'}\n"
     ]
    }
   ],
   "source": [
    "# status가 \"A\"인 문서들만 필터링\n",
    "pipeline = [\n",
    "    {\"$match\": {\"status\": \"A\"}}\n",
    "]\n",
    "results = inventory_collection.aggregate(pipeline)\n",
    "for doc in results:\n",
    "    print(doc)\n"
   ]
  },
  {
   "cell_type": "code",
   "execution_count": 82,
   "id": "a666123b-0c06-44c6-93a0-e865df5ba070",
   "metadata": {},
   "outputs": [
    {
     "name": "stdout",
     "output_type": "stream",
     "text": [
      "{'_id': 'cm', 'item_count': 3, 'total_quantity': 145}\n",
      "{'_id': 'in', 'item_count': 2, 'total_quantity': 150}\n"
     ]
    }
   ],
   "source": [
    "# 사이즈 단위(uom)별로 그룹화하여, 각 그룹의 아이템 개수와 총 수량 계산\n",
    "pipeline = [\n",
    "    {\n",
    "        \"$group\": {\n",
    "            \"_id\": \"$size.uom\",  # $를 붙여 필드 값을 참조\n",
    "            \"item_count\": {\"$sum\": 1},  # 각 문서마다 1씩 더해 개수를 셈\n",
    "            \"total_quantity\": {\"$sum\": \"$qty\"} # 그룹내 문서내 qty필드의 합\n",
    "        }\n",
    "    }\n",
    "]\n",
    "results = inventory_collection.aggregate(pipeline)\n",
    "for doc in results:\n",
    "    print(doc)\n",
    "# {'_id': 'in', 'item_count': 2, 'total_quantity': 150}\n",
    "# {'_id': 'cm', 'item_count': 3, 'total_quantity': 145}\n"
   ]
  },
  {
   "cell_type": "code",
   "execution_count": 83,
   "id": "42e84258-4f39-4818-bfde-a552036da39b",
   "metadata": {},
   "outputs": [
    {
     "name": "stdout",
     "output_type": "stream",
     "text": [
      "{'qty': 25, 'product_name': 'journal'}\n",
      "{'qty': 50, 'product_name': 'notebook'}\n",
      "{'qty': 100, 'product_name': 'paper'}\n",
      "{'qty': 75, 'product_name': 'planner'}\n",
      "{'qty': 45, 'product_name': 'postcard'}\n"
     ]
    }
   ],
   "source": [
    "# item 이름은 'product_name'으로, qty는 그대로, _id는 제외하여 출력\n",
    "pipeline = [\n",
    "    {\n",
    "        \"$project\": {\n",
    "            \"_id\": 0,\n",
    "            \"product_name\": \"$item\",\n",
    "            \"qty\": 1  # 1을 주면 해당 필드를 포함\n",
    "        }\n",
    "    }\n",
    "]\n",
    "results = inventory_collection.aggregate(pipeline)\n",
    "for doc in results:\n",
    "    print(doc)\n"
   ]
  },
  {
   "cell_type": "code",
   "execution_count": 87,
   "id": "74cd3d73-f04f-486f-ab69-05b6c62fa3f1",
   "metadata": {},
   "outputs": [
    {
     "name": "stdout",
     "output_type": "stream",
     "text": [
      "--- Aggregation 종합 예제 ---\n",
      "{'_id': 'cm', 'total_quantity': 70}\n",
      "{'_id': 'in', 'total_quantity': 50}\n"
     ]
    }
   ],
   "source": [
    "# status가 'A'인 상품만 골라서, 사이즈 단위별로 총 수량을 계산하고, 총 수량이 많은 순으로 정렬\n",
    "pipeline = [\n",
    "    {\"$match\": {\"status\": \"A\"}},\n",
    "    {\n",
    "        \"$group\": {\n",
    "            \"_id\": \"$size.uom\",\n",
    "            \"total_quantity\": {\"$sum\": \"$qty\"}\n",
    "        }\n",
    "    },\n",
    "    {\"$sort\": {\"total_quantity\": -1}} # -1은 내림차순\n",
    "]\n",
    "results = inventory_collection.aggregate(pipeline)\n",
    "print(\"--- Aggregation 종합 예제 ---\")\n",
    "for doc in results:\n",
    "    print(doc)\n"
   ]
  },
  {
   "cell_type": "code",
   "execution_count": 121,
   "id": "c816a880-f013-4c77-bf29-577f10ef412e",
   "metadata": {},
   "outputs": [
    {
     "data": {
      "text/plain": [
       "InsertManyResult([ObjectId('6847e3768f5735a55d3433aa'), ObjectId('6847e3768f5735a55d3433ab'), ObjectId('6847e3768f5735a55d3433ac'), ObjectId('6847e3768f5735a55d3433ad'), ObjectId('6847e3768f5735a55d3433ae')], acknowledged=True)"
      ]
     },
     "execution_count": 121,
     "metadata": {},
     "output_type": "execute_result"
    }
   ],
   "source": [
    "from pymongo import MongoClient\n",
    "\n",
    "client = MongoClient()\n",
    "db = client.testdb\n",
    "myusers = db.myusers\n",
    "myusers.drop()  # 기존 데이터 초기화\n",
    "\n",
    "myusers.insert_many([\n",
    "    { \"name\": \"Alice\", \"age\": 25, \"gender\": \"female\", \"hobbies\": [\"reading\", \"yoga\"] },\n",
    "    { \"name\": \"Bob\", \"age\": 30, \"gender\": \"male\", \"hobbies\": [\"gaming\", \"soccer\"] },\n",
    "    { \"name\": \"Charlie\", \"age\": 35, \"gender\": \"male\", \"hobbies\": [\"fishing\", \"reading\"] },\n",
    "    { \"name\": \"Diana\", \"age\": 28, \"gender\": \"female\", \"hobbies\": [\"baking\", \"traveling\"] },\n",
    "    { \"name\": \"Evan\", \"age\": 40, \"gender\": \"male\", \"hobbies\": [\"traveling\"] }\n",
    "])\n"
   ]
  },
  {
   "cell_type": "code",
   "execution_count": 122,
   "id": "bccffcfc-370c-4212-a10f-888d78443c41",
   "metadata": {},
   "outputs": [
    {
     "name": "stdout",
     "output_type": "stream",
     "text": [
      "{'_id': ObjectId('6847e3768f5735a55d3433aa'), 'name': 'Alice', 'age': 25, 'gender': 'female', 'hobbies': ['reading', 'yoga']}\n",
      "{'_id': ObjectId('6847e3768f5735a55d3433ab'), 'name': 'Bob', 'age': 30, 'gender': 'male', 'hobbies': ['gaming', 'soccer']}\n",
      "{'_id': ObjectId('6847e3768f5735a55d3433ac'), 'name': 'Charlie', 'age': 35, 'gender': 'male', 'hobbies': ['fishing', 'reading']}\n",
      "{'_id': ObjectId('6847e3768f5735a55d3433ad'), 'name': 'Diana', 'age': 28, 'gender': 'female', 'hobbies': ['baking', 'traveling']}\n",
      "{'_id': ObjectId('6847e3768f5735a55d3433ae'), 'name': 'Evan', 'age': 40, 'gender': 'male', 'hobbies': ['traveling']}\n"
     ]
    }
   ],
   "source": [
    "# 문제: myusers 컬렉션의 모든 문서를 조회하고 출력하시오.\n",
    "for doc in myusers.find():\n",
    "    print(doc)"
   ]
  },
  {
   "cell_type": "code",
   "execution_count": 135,
   "id": "178519b7-0c4b-4154-b299-a6c960e31779",
   "metadata": {},
   "outputs": [
    {
     "name": "stdout",
     "output_type": "stream",
     "text": [
      "{'_id': ObjectId('6847e3768f5735a55d3433ab'), 'name': 'Bob', 'age': 30, 'gender': 'male', 'hobbies': ['gaming', 'soccer']}\n",
      "{'_id': ObjectId('6847e3768f5735a55d3433ac'), 'name': 'Charlie', 'age': 35, 'gender': 'male', 'hobbies': ['fishing', 'reading']}\n",
      "{'_id': ObjectId('6847e3768f5735a55d3433ae'), 'name': 'Evan', 'age': 40, 'gender': 'male', 'hobbies': ['traveling']}\n"
     ]
    }
   ],
   "source": [
    "# 문제: age가 30 이상인 사용자의 name과 age를 출력하시오.\n",
    "for users in myusers.find({\"age\":{\"$gte\":30}}):\n",
    "    print(users)"
   ]
  },
  {
   "cell_type": "code",
   "execution_count": 137,
   "id": "625a9db7-351b-4b5f-9eea-4cb1760d2e2b",
   "metadata": {},
   "outputs": [
    {
     "name": "stdout",
     "output_type": "stream",
     "text": [
      "{'_id': ObjectId('6847e3768f5735a55d3433aa'), 'name': 'Alice', 'age': 25, 'gender': 'female', 'hobbies': ['reading', 'yoga']}\n",
      "{'_id': ObjectId('6847e3768f5735a55d3433ad'), 'name': 'Diana', 'age': 28, 'gender': 'female', 'hobbies': ['baking', 'traveling']}\n"
     ]
    }
   ],
   "source": [
    "# 문제: gender가 'female'인 사용자의 수를 출력하시오.\n",
    "for f in myusers.find({\"gender\":\"female\"}):\n",
    "    print(f)"
   ]
  },
  {
   "cell_type": "code",
   "execution_count": 138,
   "id": "dc50ed60-786a-451a-9e29-28ff3974d9ca",
   "metadata": {},
   "outputs": [
    {
     "name": "stdout",
     "output_type": "stream",
     "text": [
      "{'_id': ObjectId('6847e3768f5735a55d3433aa'), 'name': 'Alice', 'age': 25, 'gender': 'female', 'hobbies': ['reading', 'yoga']}\n",
      "{'_id': ObjectId('6847e3768f5735a55d3433ac'), 'name': 'Charlie', 'age': 35, 'gender': 'male', 'hobbies': ['fishing', 'reading']}\n"
     ]
    }
   ],
   "source": [
    "# 문제: hobbies 배열에 'reading'이 포함된 사용자를 출력하시오.\n",
    "for h in myusers.find({\"hobbies\":\"reading\"}):\n",
    "    print(h)"
   ]
  },
  {
   "cell_type": "code",
   "execution_count": 140,
   "id": "7d49efcb-e4a8-4944-b610-6e02cd79b163",
   "metadata": {},
   "outputs": [
    {
     "name": "stdout",
     "output_type": "stream",
     "text": [
      "{'_id': ObjectId('6847e3768f5735a55d3433aa'), 'name': 'Alice', 'age': 25, 'gender': 'female', 'hobbies': ['reading', 'yoga']}\n",
      "{'_id': ObjectId('6847e3768f5735a55d3433ad'), 'name': 'Diana', 'age': 28, 'gender': 'female', 'hobbies': ['baking', 'traveling']}\n",
      "{'_id': ObjectId('6847e3768f5735a55d3433ab'), 'name': 'Bob', 'age': 30, 'gender': 'male', 'hobbies': ['gaming', 'soccer']}\n"
     ]
    }
   ],
   "source": [
    "# 문제: 나이(age)를 기준으로 오름차순 정렬하고 상위 3명을 출력하시오.\n",
    "for a in myusers.find().sort(\"age\", 1).limit(3):\n",
    "    print(a)"
   ]
  },
  {
   "cell_type": "code",
   "execution_count": 142,
   "id": "ed39c683-5d59-4459-b976-58cca64d99f9",
   "metadata": {},
   "outputs": [
    {
     "name": "stdout",
     "output_type": "stream",
     "text": [
      "{'_id': ObjectId('6847e3768f5735a55d3433ad'), 'name': 'Diana'}\n",
      "{'_id': ObjectId('6847e3768f5735a55d3433ae'), 'name': 'Evan'}\n"
     ]
    }
   ],
   "source": [
    "# 문제: hobbies에 'traveling'이 있는 사용자들의 이름만 출력하시오.\n",
    "for n in myusers.find({\"hobbies\":\"traveling\"}, {\"name\":1}):\n",
    "    print(n)"
   ]
  },
  {
   "cell_type": "code",
   "execution_count": null,
   "id": "351c3953-8a76-475c-8ef8-b46c96f12af2",
   "metadata": {},
   "outputs": [],
   "source": [
    "# 문제: gender별로 사용자 수를 집계하시오. (aggregation 사용)\n"
   ]
  }
 ],
 "metadata": {
  "kernelspec": {
   "display_name": "Python [conda env:base] *",
   "language": "python",
   "name": "conda-base-py"
  },
  "language_info": {
   "codemirror_mode": {
    "name": "ipython",
    "version": 3
   },
   "file_extension": ".py",
   "mimetype": "text/x-python",
   "name": "python",
   "nbconvert_exporter": "python",
   "pygments_lexer": "ipython3",
   "version": "3.12.7"
  }
 },
 "nbformat": 4,
 "nbformat_minor": 5
}
