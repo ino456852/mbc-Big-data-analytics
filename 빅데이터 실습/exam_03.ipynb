{
 "cells": [
  {
   "cell_type": "code",
   "execution_count": 1,
   "id": "e244476c-4332-4c05-8991-ad9506d5f727",
   "metadata": {},
   "outputs": [
    {
     "data": {
      "text/plain": [
       "InsertManyResult([ObjectId('684fbf6c0363d915e66dbb17'), ObjectId('684fbf6c0363d915e66dbb18'), ObjectId('684fbf6c0363d915e66dbb19')], acknowledged=True)"
      ]
     },
     "execution_count": 1,
     "metadata": {},
     "output_type": "execute_result"
    }
   ],
   "source": [
    "from pymongo import MongoClient\n",
    "### 문제 1. 데이터 추가 (Insert)\n",
    "\n",
    "# 1. 다음 데이터를`university` 데이터베이스내 `students` 컬렉션에 삽입하시오.\n",
    "\n",
    "client = MongoClient(\"mongodb://localhost:27017\") \n",
    "db = client.university \n",
    "students = db.students \n",
    "\n",
    "students.insert_many([\n",
    "    {\"name\": \"김철수\", \"gender\": \"M\", \"age\": 22, \"department\": \"기계공학과\", \"scores\": {\"math\": 88, \"english\": 76, \"science\": 91}},\n",
    "    {\"name\": \"이영희\", \"gender\": \"F\", \"age\": 21, \"department\": \"컴퓨터공학과\", \"scores\": {\"math\": 92, \"english\": 89, \"science\": 85}},\n",
    "    {\"name\": \"박민준\", \"gender\": \"M\", \"age\": 23, \"department\": \"화학과\", \"scores\": {\"math\": 75, \"english\": 80, \"science\": 79}},\n",
    "])\n"
   ]
  },
  {
   "cell_type": "code",
   "execution_count": 6,
   "id": "1e22f8e3-b9e9-4fd4-84bd-30b19e6b55a7",
   "metadata": {},
   "outputs": [
    {
     "name": "stdout",
     "output_type": "stream",
     "text": [
      "{'_id': ObjectId('684fbf6c0363d915e66dbb17'), 'name': '김철수', 'scores': {'math': 88}}\n",
      "{'_id': ObjectId('684fbf6c0363d915e66dbb18'), 'name': '이영희', 'scores': {'math': 92}}\n"
     ]
    }
   ],
   "source": [
    "### 문제 2. 조건 검색 (Find)\n",
    "\n",
    "# 1. 수학 점수가 85점 이상인 학생의 이름과 수학 점수를 조회하시오.\n",
    "\n",
    "# 수학 점수 85점 이상인 학생의 이름과 수학 점수 조회\n",
    "result = students.find({\"scores.math\": {\"$gte\": 85}}, {\"name\": 1, \"scores.math\": 1})\n",
    "\n",
    "for i in result:\n",
    "    print(i)\n"
   ]
  },
  {
   "cell_type": "code",
   "execution_count": 11,
   "id": "71a69596-fae9-410d-a2ea-56f83c3ab0fa",
   "metadata": {},
   "outputs": [
    {
     "name": "stdout",
     "output_type": "stream",
     "text": [
      "Collection(Database(MongoClient(host=['localhost:27017'], document_class=dict, tz_aware=False, connect=True), 'university'), 'students')\n"
     ]
    }
   ],
   "source": [
    "### 문제 3. 데이터 삭제 (Delete)\n",
    "\n",
    "# 1. 나이가 22세 이상인 학생들을 삭제하시오.\n",
    "\n",
    "students.delete_many({\"age\":{\"$gte\":22}})\n"
   ]
  },
  {
   "cell_type": "code",
   "execution_count": 20,
   "id": "2570c49d-6493-4a22-978b-6456c65d6335",
   "metadata": {},
   "outputs": [
    {
     "name": "stdout",
     "output_type": "stream",
     "text": [
      "      _id  count\n",
      "0  컴퓨터공학과      1\n",
      "      _id  avg_math\n",
      "0  컴퓨터공학과      92.0\n"
     ]
    }
   ],
   "source": [
    "### 문제 4. 그룹화 및 통계 (Aggregation)\n",
    "\n",
    "# 1. 학과별(`department`)로 학생 수를 구하시오.\n",
    "# 2. 학과별로 수학 점수의 평균을 계산하시오.\n",
    "\n",
    "import pandas as pd\n",
    "\n",
    "test1 = [\n",
    "    {\"$group\": {\"_id\": \"$department\", \"count\": {\"$sum\": 1}}}\n",
    "]\n",
    "df1 = pd.DataFrame(list(students.aggregate(test1)))\n",
    "print(df1)\n",
    "\n",
    "test2 = [\n",
    "    {\"$group\": {\"_id\": \"$department\", \"avg_math\": {\"$avg\": \"$scores.math\"}}}\n",
    "]\n",
    "df2 = pd.DataFrame(list(students.aggregate(test2)))\n",
    "print(df2)\n"
   ]
  }
 ],
 "metadata": {
  "kernelspec": {
   "display_name": "Python [conda env:base] *",
   "language": "python",
   "name": "conda-base-py"
  },
  "language_info": {
   "codemirror_mode": {
    "name": "ipython",
    "version": 3
   },
   "file_extension": ".py",
   "mimetype": "text/x-python",
   "name": "python",
   "nbconvert_exporter": "python",
   "pygments_lexer": "ipython3",
   "version": "3.12.7"
  }
 },
 "nbformat": 4,
 "nbformat_minor": 5
}
